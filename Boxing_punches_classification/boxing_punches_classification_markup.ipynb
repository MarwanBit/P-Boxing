{
  "cells": [
    {
      "cell_type": "markdown",
      "metadata": {
        "id": "d3Y_r5wNOZJl"
      },
      "source": [
        "This is the markup file for our dataset.\n",
        "\n",
        "The data is divided into folders. \n",
        "The markup is made for individual folders, not individual files.\n",
        "\n",
        "Let's start with the data for the punch classification model."
      ]
    },
    {
      "cell_type": "markdown",
      "metadata": {
        "id": "QGRmTmguPgYQ"
      },
      "source": [
        "Let me remind you that reading files happens like this:\n",
        "\n",
        "dir = os.listdir(data_path)\n",
        "\n",
        "\n",
        "dir.sort()\n",
        "\n",
        "Be careful with renaming files."
      ]
    },
    {
      "cell_type": "code",
      "execution_count": 1,
      "metadata": {
        "id": "XBA9V0zwKrry"
      },
      "outputs": [
        {
          "ename": "NameError",
          "evalue": "name 'data_train_M' is not defined",
          "output_type": "error",
          "traceback": [
            "\u001b[1;31m---------------------------------------------------------------------------\u001b[0m",
            "\u001b[1;31mNameError\u001b[0m                                 Traceback (most recent call last)",
            "\u001b[1;32mc:\\Users\\Marwa\\OneDrive\\Documents\\GitHub\\Boxing_punches_classification\\boxing_punches_classification_markup.ipynb Cell 3\u001b[0m line \u001b[0;36m2\n\u001b[0;32m      <a href='vscode-notebook-cell:/c%3A/Users/Marwa/OneDrive/Documents/GitHub/Boxing_punches_classification/boxing_punches_classification_markup.ipynb#W2sZmlsZQ%3D%3D?line=0'>1</a>\u001b[0m \u001b[39m# train_file/train_M/\u001b[39;00m\n\u001b[1;32m----> <a href='vscode-notebook-cell:/c%3A/Users/Marwa/OneDrive/Documents/GitHub/Boxing_punches_classification/boxing_punches_classification_markup.ipynb#W2sZmlsZQ%3D%3D?line=1'>2</a>\u001b[0m data_train_M[\u001b[39m\"\u001b[39m\u001b[39mreal_action\u001b[39m\u001b[39m\"\u001b[39m] \u001b[39m=\u001b[39m \u001b[39m0\u001b[39m\n\u001b[0;32m      <a href='vscode-notebook-cell:/c%3A/Users/Marwa/OneDrive/Documents/GitHub/Boxing_punches_classification/boxing_punches_classification_markup.ipynb#W2sZmlsZQ%3D%3D?line=3'>4</a>\u001b[0m jab_ind \u001b[39m=\u001b[39m [\u001b[39m1\u001b[39m, \u001b[39m5\u001b[39m, \u001b[39m7\u001b[39m, \u001b[39m9\u001b[39m, \u001b[39m11\u001b[39m, \u001b[39m31\u001b[39m, \u001b[39m33\u001b[39m, \u001b[39m35\u001b[39m, \u001b[39m37\u001b[39m, \u001b[39m39\u001b[39m, \u001b[39m61\u001b[39m, \u001b[39m63\u001b[39m, \u001b[39m65\u001b[39m, \u001b[39m67\u001b[39m, \u001b[39m69\u001b[39m,\n\u001b[0;32m      <a href='vscode-notebook-cell:/c%3A/Users/Marwa/OneDrive/Documents/GitHub/Boxing_punches_classification/boxing_punches_classification_markup.ipynb#W2sZmlsZQ%3D%3D?line=4'>5</a>\u001b[0m            \u001b[39m93\u001b[39m, \u001b[39m95\u001b[39m, \u001b[39m97\u001b[39m, \u001b[39m99\u001b[39m, \u001b[39m103\u001b[39m, \u001b[39m131\u001b[39m, \u001b[39m133\u001b[39m, \u001b[39m135\u001b[39m, \u001b[39m137\u001b[39m, \u001b[39m139\u001b[39m, \u001b[39m161\u001b[39m, \u001b[39m163\u001b[39m, \u001b[39m165\u001b[39m, \u001b[39m167\u001b[39m, \u001b[39m169\u001b[39m,\n\u001b[0;32m      <a href='vscode-notebook-cell:/c%3A/Users/Marwa/OneDrive/Documents/GitHub/Boxing_punches_classification/boxing_punches_classification_markup.ipynb#W2sZmlsZQ%3D%3D?line=5'>6</a>\u001b[0m            \u001b[39m191\u001b[39m, \u001b[39m193\u001b[39m, \u001b[39m195\u001b[39m, \u001b[39m197\u001b[39m, \u001b[39m199\u001b[39m, \u001b[39m223\u001b[39m, \u001b[39m225\u001b[39m, \u001b[39m227\u001b[39m, \u001b[39m229\u001b[39m, \u001b[39m231\u001b[39m, \u001b[39m253\u001b[39m, \u001b[39m255\u001b[39m, \u001b[39m257\u001b[39m, \u001b[39m259\u001b[39m, \u001b[39m261\u001b[39m,\n\u001b[1;32m   (...)\u001b[0m\n\u001b[0;32m     <a href='vscode-notebook-cell:/c%3A/Users/Marwa/OneDrive/Documents/GitHub/Boxing_punches_classification/boxing_punches_classification_markup.ipynb#W2sZmlsZQ%3D%3D?line=9'>10</a>\u001b[0m            \u001b[39m589\u001b[39m, \u001b[39m615\u001b[39m, \u001b[39m617\u001b[39m, \u001b[39m619\u001b[39m, \u001b[39m621\u001b[39m, \u001b[39m623\u001b[39m, \u001b[39m647\u001b[39m, \u001b[39m649\u001b[39m, \u001b[39m651\u001b[39m, \u001b[39m653\u001b[39m, \u001b[39m655\u001b[39m, \u001b[39m683\u001b[39m, \u001b[39m689\u001b[39m,\n\u001b[0;32m     <a href='vscode-notebook-cell:/c%3A/Users/Marwa/OneDrive/Documents/GitHub/Boxing_punches_classification/boxing_punches_classification_markup.ipynb#W2sZmlsZQ%3D%3D?line=10'>11</a>\u001b[0m            \u001b[39m719\u001b[39m, \u001b[39m721\u001b[39m, \u001b[39m723\u001b[39m, \u001b[39m725\u001b[39m, \u001b[39m727\u001b[39m, \u001b[39m751\u001b[39m, \u001b[39m753\u001b[39m, \u001b[39m755\u001b[39m, \u001b[39m757\u001b[39m, \u001b[39m759\u001b[39m, \u001b[39m789\u001b[39m, \u001b[39m793\u001b[39m, \u001b[39m795\u001b[39m, \u001b[39m797\u001b[39m, \u001b[39m799\u001b[39m, \u001b[39m801\u001b[39m, \u001b[39m803\u001b[39m, \u001b[39m805\u001b[39m, \u001b[39m807\u001b[39m]\n\u001b[0;32m     <a href='vscode-notebook-cell:/c%3A/Users/Marwa/OneDrive/Documents/GitHub/Boxing_punches_classification/boxing_punches_classification_markup.ipynb#W2sZmlsZQ%3D%3D?line=12'>13</a>\u001b[0m uppercut_ind \u001b[39m=\u001b[39m [\u001b[39m13\u001b[39m, \u001b[39m15\u001b[39m, \u001b[39m17\u001b[39m, \u001b[39m19\u001b[39m, \u001b[39m41\u001b[39m, \u001b[39m43\u001b[39m, \u001b[39m45\u001b[39m, \u001b[39m47\u001b[39m, \u001b[39m49\u001b[39m, \u001b[39m71\u001b[39m, \u001b[39m73\u001b[39m, \u001b[39m75\u001b[39m, \u001b[39m77\u001b[39m, \u001b[39m79\u001b[39m,\n\u001b[0;32m     <a href='vscode-notebook-cell:/c%3A/Users/Marwa/OneDrive/Documents/GitHub/Boxing_punches_classification/boxing_punches_classification_markup.ipynb#W2sZmlsZQ%3D%3D?line=13'>14</a>\u001b[0m                 \u001b[39m107\u001b[39m, \u001b[39m111\u001b[39m, \u001b[39m113\u001b[39m, \u001b[39m115\u001b[39m, \u001b[39m117\u001b[39m, \u001b[39m141\u001b[39m, \u001b[39m143\u001b[39m, \u001b[39m145\u001b[39m, \u001b[39m147\u001b[39m, \u001b[39m149\u001b[39m, \u001b[39m171\u001b[39m, \u001b[39m173\u001b[39m, \u001b[39m175\u001b[39m, \u001b[39m177\u001b[39m, \u001b[39m179\u001b[39m,\n\u001b[0;32m     <a href='vscode-notebook-cell:/c%3A/Users/Marwa/OneDrive/Documents/GitHub/Boxing_punches_classification/boxing_punches_classification_markup.ipynb#W2sZmlsZQ%3D%3D?line=14'>15</a>\u001b[0m                 \u001b[39m201\u001b[39m, \u001b[39m203\u001b[39m, \u001b[39m205\u001b[39m, \u001b[39m207\u001b[39m, \u001b[39m209\u001b[39m, \u001b[39m233\u001b[39m, \u001b[39m235\u001b[39m, \u001b[39m237\u001b[39m, \u001b[39m239\u001b[39m, \u001b[39m241\u001b[39m, \u001b[39m263\u001b[39m, \u001b[39m265\u001b[39m, \u001b[39m267\u001b[39m, \u001b[39m269\u001b[39m, \u001b[39m271\u001b[39m,\n\u001b[1;32m   (...)\u001b[0m\n\u001b[0;32m     <a href='vscode-notebook-cell:/c%3A/Users/Marwa/OneDrive/Documents/GitHub/Boxing_punches_classification/boxing_punches_classification_markup.ipynb#W2sZmlsZQ%3D%3D?line=18'>19</a>\u001b[0m                 \u001b[39m593\u001b[39m, \u001b[39m595\u001b[39m, \u001b[39m597\u001b[39m, \u001b[39m599\u001b[39m, \u001b[39m601\u001b[39m, \u001b[39m625\u001b[39m, \u001b[39m627\u001b[39m, \u001b[39m629\u001b[39m, \u001b[39m631\u001b[39m, \u001b[39m633\u001b[39m, \u001b[39m657\u001b[39m, \u001b[39m659\u001b[39m, \u001b[39m661\u001b[39m, \u001b[39m663\u001b[39m, \u001b[39m665\u001b[39m,\n\u001b[0;32m     <a href='vscode-notebook-cell:/c%3A/Users/Marwa/OneDrive/Documents/GitHub/Boxing_punches_classification/boxing_punches_classification_markup.ipynb#W2sZmlsZQ%3D%3D?line=19'>20</a>\u001b[0m                 \u001b[39m693\u001b[39m, \u001b[39m695\u001b[39m, \u001b[39m697\u001b[39m, \u001b[39m699\u001b[39m, \u001b[39m701\u001b[39m, \u001b[39m703\u001b[39m, \u001b[39m729\u001b[39m, \u001b[39m731\u001b[39m, \u001b[39m733\u001b[39m, \u001b[39m735\u001b[39m, \u001b[39m737\u001b[39m, \u001b[39m761\u001b[39m, \u001b[39m765\u001b[39m, \u001b[39m767\u001b[39m, \u001b[39m771\u001b[39m, \u001b[39m773\u001b[39m]\n",
            "\u001b[1;31mNameError\u001b[0m: name 'data_train_M' is not defined"
          ]
        }
      ],
      "source": [
        "# train_file/train_M/\n",
        "'''\n",
        "import os \n",
        "dir  = os.listdir(\"./data/train_file/train_M\")\n",
        "def skip_fun(x):\n",
        "    return x in (0, 1, 2)\n",
        "data_train_M = pd.read_csv(data_path, skiprows=skip_fun)\n",
        "'''\n",
        "\n",
        "\n",
        "#Pred edit\n",
        "data_train_M[\"real_action\"] = 0\n",
        "\n",
        "jab_ind = [1, 5, 7, 9, 11, 31, 33, 35, 37, 39, 61, 63, 65, 67, 69,\n",
        "           93, 95, 97, 99, 103, 131, 133, 135, 137, 139, 161, 163, 165, 167, 169,\n",
        "           191, 193, 195, 197, 199, 223, 225, 227, 229, 231, 253, 255, 257, 259, 261,\n",
        "           283, 285, 287, 289, 291, 313, 315, 317, 319, 321, 345, 347, 349, 351, 353,\n",
        "           377, 381, 383, 385, 387, 389, 415, 417, 419, 421, 423, 425, 447, 449, 451, 453, 455,\n",
        "           481, 483, 485, 487, 489, 513, 515, 517, 519, 521, 549, 551, 553, 555, 557, 559,\n",
        "           589, 615, 617, 619, 621, 623, 647, 649, 651, 653, 655, 683, 689,\n",
        "           719, 721, 723, 725, 727, 751, 753, 755, 757, 759, 789, 793, 795, 797, 799, 801, 803, 805, 807]\n",
        "\n",
        "uppercut_ind = [13, 15, 17, 19, 41, 43, 45, 47, 49, 71, 73, 75, 77, 79,\n",
        "                107, 111, 113, 115, 117, 141, 143, 145, 147, 149, 171, 173, 175, 177, 179,\n",
        "                201, 203, 205, 207, 209, 233, 235, 237, 239, 241, 263, 265, 267, 269, 271,\n",
        "                293, 295, 297, 299, 301, 323, 325, 327, 329, 331, 355, 357, 359, 361, 363,\n",
        "                391, 393, 395, 397, 399, 427, 429, 431, 433, 457, 459, 461, 465, 467,\n",
        "                491, 493, 495, 497, 499, 523, 525, 527, 529, 531, 561, 563, 571,\n",
        "                593, 595, 597, 599, 601, 625, 627, 629, 631, 633, 657, 659, 661, 663, 665,\n",
        "                693, 695, 697, 699, 701, 703, 729, 731, 733, 735, 737, 761, 765, 767, 771, 773]\n",
        "                \n",
        "hook_ind = [21, 23, 25, 27, 29, 51, 53, 55, 57, 59, 81, 83, 85, 87, 89, 91,\n",
        "            119, 121, 123, 125, 127, 151, 153, 155, 157, 159, 181, 183, 185, 187, 189,\n",
        "            211, 213, 215, 217, 219, 221, 243, 245, 247, 249, 251, 273, 275, 277, 279, 281,\n",
        "            303, 305, 307, 309, 311, 333, 335, 339, 341, 343, 365, 367, 369, 371, 373,\n",
        "            401, 403, 407, 409, 435, 437, 439, 441, 443, 469, 471, 473, 475, 477,\n",
        "            501, 503, 505, 507, 509, 535, 537, 539, 541, 543, 545, 579, 581, 583,\n",
        "            603, 605, 607, 609, 611, 635, 639, 641, 667, 669, 671, 673, 675, 677,\n",
        "            705, 707, 709, 711, 713, 739, 741, 743, 745, 747, 775, 777, 781, 783, 785]\n",
        "\n",
        "data_train_M.loc[data_train_M[\"action_index\"].isin(jab_ind), \"real_action\"] = 1\n",
        "data_train_M.loc[data_train_M[\"action_index\"].isin(uppercut_ind), \"real_action\"] = 2\n",
        "data_train_M.loc[data_train_M[\"action_index\"].isin(hook_ind), \"real_action\"] = 3"
      ]
    },
    {
      "cell_type": "code",
      "execution_count": null,
      "metadata": {
        "id": "uLz8WBaKQRqT"
      },
      "outputs": [],
      "source": [
        "# train_file/train_B/\n",
        "data_train_B[\"real_action\"] = 0\n",
        "\n",
        "jab_ind = [0, 2, 4, 6, 8,\n",
        "           144, 148, 152]\n",
        "\n",
        "uppercut_ind = [10, 14, 18, 22, 26, 30, 34, 36, 40, 44,\n",
        "                92, 96, 98, 102, 104, 106, 108,\n",
        "                158, 162, 164, 166, 170, 174, 180, 182, 184, 188]\n",
        "                \n",
        "hook_ind = [48, 54, 58, 62, 68, 72, 74, 78, 82, 86,\n",
        "            110, 114, 118, 122, 126, 128, 130, 134, 136, 140,\n",
        "            192, 196, 202, 208, 212, 218, 222, 224, 228, 232]\n",
        "\n",
        "data_train_B.loc[data_train_B[\"action_index\"].isin(jab_ind), \"real_action\"] = 1\n",
        "data_train_B.loc[data_train_B[\"action_index\"].isin(uppercut_ind), \"real_action\"] = 2\n",
        "data_train_B.loc[data_train_B[\"action_index\"].isin(hook_ind), \"real_action\"] = 3"
      ]
    },
    {
      "cell_type": "code",
      "execution_count": null,
      "metadata": {
        "id": "tYxcFZf6QXgh"
      },
      "outputs": [],
      "source": [
        "# train_file/train_D1/\n",
        "data_train_D1[\"real_action\"] = 0\n",
        "\n",
        "jab_ind = [2, 4, 6, 8, 10, 12, 14,\n",
        "           56, 58, 60, 62, 64, 66, 68, 70]\n",
        "\n",
        "uppercut_ind = [16, 18, 20, 22, 24, 26, 28, 30, 32, 34,\n",
        "                72, 74, 76, 78, 80, 82, 84, 86, 88, 90]\n",
        "\n",
        "hook_ind = [36, 38, 40, 42, 44, 46, 48, 50, 52, 54,\n",
        "            92, 94, 96, 98, 100, 102, 104, 106, 108, 110]\n",
        "\n",
        "data_train_D1.loc[data_train_D1[\"action_index\"].isin(jab_ind), \"real_action\"] = 1\n",
        "data_train_D1.loc[data_train_D1[\"action_index\"].isin(uppercut_ind), \"real_action\"] = 2\n",
        "data_train_D1.loc[data_train_D1[\"action_index\"].isin(hook_ind), \"real_action\"] = 3"
      ]
    },
    {
      "cell_type": "code",
      "execution_count": null,
      "metadata": {
        "id": "4ZXyvOX_QdpY"
      },
      "outputs": [],
      "source": [
        "# test_file/test_M/\n",
        "data_test_M[\"real_action\"] = 0\n",
        "\n",
        "jab_ind = [1, 3, 13, 15, 25, 27, 37, 39, 49, 51, 61, 63]\n",
        "\n",
        "uppercut_ind = [5, 7, 17, 19, 29, 31, 41, 43, 53, 55, 65, 67]\n",
        "\n",
        "hook_ind = [9, 11, 21, 23, 33, 35, 45, 47, 57, 59, 69, 71]\n",
        "\n",
        "data_test_M.loc[data_test_M[\"action_index\"].isin(jab_ind), \"real_action\"] = 1\n",
        "data_test_M.loc[data_test_M[\"action_index\"].isin(uppercut_ind), \"real_action\"] = 2\n",
        "data_test_M.loc[data_test_M[\"action_index\"].isin(hook_ind), \"real_action\"] = 3"
      ]
    },
    {
      "cell_type": "code",
      "execution_count": null,
      "metadata": {
        "id": "HwlPRGAqQln6"
      },
      "outputs": [],
      "source": [
        "# test_file/test_B/\n",
        "data_test_B[\"real_action\"] = 0\n",
        "\n",
        "jab_ind = [1, 3, 13, 15]\n",
        "\n",
        "uppercut_ind = [5, 7, 19, 21]\n",
        "\n",
        "hook_ind = [9, 11, 23, 27]\n",
        "\n",
        "data_test_B.loc[data_test_B[\"action_index\"].isin(jab_ind), \"real_action\"] = 1\n",
        "data_test_B.loc[data_test_B[\"action_index\"].isin(uppercut_ind), \"real_action\"] = 2\n",
        "data_test_B.loc[data_test_B[\"action_index\"].isin(hook_ind), \"real_action\"] = 3"
      ]
    },
    {
      "cell_type": "code",
      "execution_count": null,
      "metadata": {
        "id": "nA9WoJn8Qsz4"
      },
      "outputs": [],
      "source": [
        "# test_file/test_D1/\n",
        "data_test_D1[\"real_action\"] = 0\n",
        "\n",
        "jab_ind = [1, 3, 13, 15]\n",
        "\n",
        "uppercut_ind = [5, 7, 17, 19]\n",
        "\n",
        "hook_ind = [9, 11, 21, 23]\n",
        "\n",
        "data_test_D1.loc[data_test_D1[\"action_index\"].isin(jab_ind), \"real_action\"] = 1\n",
        "data_test_D1.loc[data_test_D1[\"action_index\"].isin(uppercut_ind), \"real_action\"] = 2\n",
        "data_test_D1.loc[data_test_D1[\"action_index\"].isin(hook_ind), \"real_action\"] = 3"
      ]
    },
    {
      "cell_type": "code",
      "execution_count": null,
      "metadata": {
        "id": "f7z6oh0AQwAY"
      },
      "outputs": [],
      "source": [
        "# test_file/test_D2/\n",
        "data_test_D2[\"real_action\"] = 0\n",
        "\n",
        "jab_ind = [9, 23, 25]\n",
        "\n",
        "uppercut_ind = [11, 13, 27, 29]\n",
        "\n",
        "hook_ind = [15, 21, 31, 35]\n",
        "\n",
        "data_test_D2.loc[data_test_D2[\"action_index\"].isin(jab_ind), \"real_action\"] = 1\n",
        "data_test_D2.loc[data_test_D2[\"action_index\"].isin(uppercut_ind), \"real_action\"] = 2\n",
        "data_test_D2.loc[data_test_D2[\"action_index\"].isin(hook_ind), \"real_action\"] = 3"
      ]
    },
    {
      "cell_type": "markdown",
      "metadata": {
        "id": "-YUqjIkAQ6VA"
      },
      "source": [
        "Now move on to the fight records for second model (Finding punches).\n",
        "\n",
        "Here you can see two types of markup. Markups of punches and markings of punches types.\n",
        "\n",
        "Both were used in a model that was looking for punches. But the first ones were also used to test the combined model.\n",
        "Here is the markup for each file separately."
      ]
    },
    {
      "cell_type": "code",
      "execution_count": 1,
      "metadata": {
        "id": "nryz-89XRy5i"
      },
      "outputs": [
        {
          "ename": "NameError",
          "evalue": "name 'data_train01' is not defined",
          "output_type": "error",
          "traceback": [
            "\u001b[1;31m---------------------------------------------------------------------------\u001b[0m",
            "\u001b[1;31mNameError\u001b[0m                                 Traceback (most recent call last)",
            "\u001b[1;32mc:\\Users\\Marwa\\OneDrive\\Documents\\GitHub\\Boxing_punches_classification\\boxing_punches_classification_markup.ipynb Cell 11\u001b[0m line \u001b[0;36m2\n\u001b[0;32m      <a href='vscode-notebook-cell:/c%3A/Users/Marwa/OneDrive/Documents/GitHub/Boxing_punches_classification/boxing_punches_classification_markup.ipynb#X13sZmlsZQ%3D%3D?line=0'>1</a>\u001b[0m \u001b[39m# fight_file/01.txt\u001b[39;00m\n\u001b[1;32m----> <a href='vscode-notebook-cell:/c%3A/Users/Marwa/OneDrive/Documents/GitHub/Boxing_punches_classification/boxing_punches_classification_markup.ipynb#X13sZmlsZQ%3D%3D?line=1'>2</a>\u001b[0m data_train01[\u001b[39m\"\u001b[39m\u001b[39mreal_action\u001b[39m\u001b[39m\"\u001b[39m] \u001b[39m=\u001b[39m \u001b[39m0\u001b[39m\n\u001b[0;32m      <a href='vscode-notebook-cell:/c%3A/Users/Marwa/OneDrive/Documents/GitHub/Boxing_punches_classification/boxing_punches_classification_markup.ipynb#X13sZmlsZQ%3D%3D?line=3'>4</a>\u001b[0m jab_ind \u001b[39m=\u001b[39m [\u001b[39m4\u001b[39m, \u001b[39m5\u001b[39m, \u001b[39m6\u001b[39m, \u001b[39m23\u001b[39m, \u001b[39m24\u001b[39m, \u001b[39m25\u001b[39m, \u001b[39m37\u001b[39m, \u001b[39m38\u001b[39m, \u001b[39m39\u001b[39m, \u001b[39m44\u001b[39m, \u001b[39m45\u001b[39m, \u001b[39m46\u001b[39m, \u001b[39m47\u001b[39m, \u001b[39m48\u001b[39m, \u001b[39m58\u001b[39m, \u001b[39m59\u001b[39m, \u001b[39m60\u001b[39m, \u001b[39m63\u001b[39m, \u001b[39m64\u001b[39m, \u001b[39m65\u001b[39m,\n\u001b[0;32m      <a href='vscode-notebook-cell:/c%3A/Users/Marwa/OneDrive/Documents/GitHub/Boxing_punches_classification/boxing_punches_classification_markup.ipynb#X13sZmlsZQ%3D%3D?line=4'>5</a>\u001b[0m  \u001b[39m71\u001b[39m, \u001b[39m72\u001b[39m, \u001b[39m73\u001b[39m, \u001b[39m78\u001b[39m, \u001b[39m79\u001b[39m, \u001b[39m80\u001b[39m, \u001b[39m81\u001b[39m, \u001b[39m82\u001b[39m, \u001b[39m83\u001b[39m, \u001b[39m86\u001b[39m, \u001b[39m87\u001b[39m, \u001b[39m88\u001b[39m, \u001b[39m96\u001b[39m, \u001b[39m97\u001b[39m, \u001b[39m115\u001b[39m, \u001b[39m116\u001b[39m, \u001b[39m117\u001b[39m, \u001b[39m134\u001b[39m, \u001b[39m135\u001b[39m, \u001b[39m147\u001b[39m, \u001b[39m148\u001b[39m]\n\u001b[0;32m      <a href='vscode-notebook-cell:/c%3A/Users/Marwa/OneDrive/Documents/GitHub/Boxing_punches_classification/boxing_punches_classification_markup.ipynb#X13sZmlsZQ%3D%3D?line=6'>7</a>\u001b[0m uppercut_ind \u001b[39m=\u001b[39m [\u001b[39m10\u001b[39m, \u001b[39m11\u001b[39m, \u001b[39m12\u001b[39m, \u001b[39m26\u001b[39m, \u001b[39m27\u001b[39m, \u001b[39m28\u001b[39m, \u001b[39m61\u001b[39m, \u001b[39m62\u001b[39m, \u001b[39m88\u001b[39m, \u001b[39m89\u001b[39m, \u001b[39m90\u001b[39m, \u001b[39m102\u001b[39m, \u001b[39m103\u001b[39m, \u001b[39m118\u001b[39m, \u001b[39m119\u001b[39m, \u001b[39m120\u001b[39m, \u001b[39m137\u001b[39m, \u001b[39m138\u001b[39m]\n",
            "\u001b[1;31mNameError\u001b[0m: name 'data_train01' is not defined"
          ]
        }
      ],
      "source": [
        "# fight_file/01.txt\n",
        "data_train01[\"real_action\"] = 0\n",
        "\n",
        "jab_ind = [4, 5, 6, 23, 24, 25, 37, 38, 39, 44, 45, 46, 47, 48, 58, 59, 60, 63, 64, 65,\n",
        " 71, 72, 73, 78, 79, 80, 81, 82, 83, 86, 87, 88, 96, 97, 115, 116, 117, 134, 135, 147, 148]\n",
        "\n",
        "uppercut_ind = [10, 11, 12, 26, 27, 28, 61, 62, 88, 89, 90, 102, 103, 118, 119, 120, 137, 138]\n",
        "                \n",
        "hook_ind = [14, 15, 16, 30, 31, 32, 55, 56, 57, 99, 100, 106, 107, 123, 124, 125, 139, 140, 141]\n",
        "\n",
        "data_train01.loc[data_train01[\"action_index\"].isin(jab_ind), \"real_action\"] = 1\n",
        "data_train01.loc[data_train01[\"action_index\"].isin(uppercut_ind), \"real_action\"] = 1\n",
        "data_train01.loc[data_train01[\"action_index\"].isin(hook_ind), \"real_action\"] = 1"
      ]
    },
    {
      "cell_type": "code",
      "execution_count": null,
      "metadata": {
        "id": "6eQI9PfUSSa_"
      },
      "outputs": [],
      "source": [
        "# fight_file/02.txt\n",
        "data_train02[\"real_action\"] = 0\n",
        "\n",
        "hit_ind = [3, 4, 5, 8, 9, 10, 11, 12, 13, 17, 18, 22, 23, 24, 25, 26, 30, 31, 32, 38, 39, 41,\n",
        " 42, 45, 46, 49, 50, 51, 52, 55, 56, 61, 62, 63, 64, 65, 69, 70, 71, 72, 73, 78, 79, 80, 81, 82,\n",
        " 86, 87, 92, 93, 96, 97, 98, 99, 100, 104, 105, 106, 107, 108, 109, 114, 115, 119, 120,\n",
        " 125, 126, 129, 130, 136, 137, 142, 143, 144, 148, 149, 150]\n",
        "\n",
        "data_train02.loc[data_train02[\"action_index\"].isin(hit_ind), \"real_action\"] = 1"
      ]
    },
    {
      "cell_type": "code",
      "execution_count": null,
      "metadata": {
        "id": "FotWkYsrScrq"
      },
      "outputs": [],
      "source": [
        "# fight_file/03.txt\n",
        "data_train03[\"real_action\"] = 0\n",
        "\n",
        "hit_ind = [5, 6, 7, 12, 13, 14, 17, 18, 24, 25, 26, 30, 31, 33, 34, 35, 39, 40, 41, 43, 44,\n",
        " 49, 50, 53, 54, 55, 56, 57, 58, 62, 63, 66, 67, 70, 71, 72, 74, 75, 81, 82, 83, \n",
        " 90, 91, 93, 94, 95, 96, 97, 98, 105, 106, 109, 110, 118, 119, 121, 122, 123, 126, 127, 128]\n",
        "\n",
        "data_train03.loc[data_train03[\"action_index\"].isin(hit_ind), \"real_action\"] = 1"
      ]
    },
    {
      "cell_type": "code",
      "execution_count": null,
      "metadata": {
        "id": "bjNvXAGGSgXA"
      },
      "outputs": [],
      "source": [
        "# fight_file/04.txt\n",
        "data_train04[\"real_action\"] = 0\n",
        "\n",
        "hit_ind = [6, 7, 8, 12, 13, 14, 18, 19, 24, 25, 29, 30, 31, 32, 35, 36, 38, 39, 40, 41, 45, 46, 47,\n",
        " 52, 53, 58, 59, 60, 63, 64, 65, 68, 69, 70, 74, 75, 76, 80, 81,82, 83, 86, 87, 88, 89, 90, 94, 95,\n",
        " 100, 101, 102, 107, 108, 109, 110, 111, 112, 117, 118, 119, 122, 123, 124, 127, 128, 129]\n",
        "\n",
        "data_train04.loc[data_train04[\"action_index\"].isin(hit_ind), \"real_action\"] = 1"
      ]
    },
    {
      "cell_type": "code",
      "execution_count": null,
      "metadata": {
        "id": "OYsW2px9SjRY"
      },
      "outputs": [],
      "source": [
        "# fight_file/05.txt\n",
        "data_train05[\"real_action\"] = 0\n",
        "\n",
        "hit_ind = [4, 5, 6, 9, 10, 11, 14, 15, 16, 20, 21, 22, 27, 28, 29, 36, 37, 38, 39, 40,\n",
        " 45, 46, 48, 49, 50, 52, 53, 54, 55, 56, 57, 62, 63, 64, 65, 66, 67, 71, 72, 73,\n",
        " 75, 76, 79, 80, 88, 89, 90, 95, 96, 98 ,99, 100, 104, 105, 106, 108, 109,110, \n",
        " 114, 115, 116,117, 118, 121, 122, 123, 129, 130, 135, 136, 138, 139, 140]\n",
        "\n",
        "data_train05.loc[data_train05[\"action_index\"].isin(hit_ind), \"real_action\"] = 1"
      ]
    },
    {
      "cell_type": "code",
      "execution_count": null,
      "metadata": {
        "id": "zUcpH_ESSk0X"
      },
      "outputs": [],
      "source": [
        "# fight_file/06.txt\n",
        "data_train06[\"real_action\"] = 0\n",
        "\n",
        "hit_ind = [4, 5, 6, 10, 11, 12, 16, 17, 21, 22, 25, 26, 32, 33, 34, 38, 39, 40, 44, 45, 46,\n",
        " 51, 52, 53, 54, 55, 56, 57, 61, 62, 63, 64, 65,69, 70 ,72, 73, 79, 80, 81, 82, \n",
        " 85, 86, 87, 88, 91, 92,  96, 97, 98, 99, 100, 93, 103, 104, 105, 109, 110, 111,\n",
        " 114, 115, 116, 119, 120, 125, 126, 129, 130, 131]\n",
        "\n",
        "data_train06.loc[data_train06[\"action_index\"].isin(hit_ind), \"real_action\"] = 1"
      ]
    },
    {
      "cell_type": "code",
      "execution_count": null,
      "metadata": {
        "id": "igRb1fW7Sk34"
      },
      "outputs": [],
      "source": [
        "# fight_file/07.txt\n",
        "data_train07[\"real_action\"] = 0\n",
        "\n",
        "hit_ind = [7, 8, 14, 15,16, 19, 20, 21, 22, 23, 29, 30, 33, 34, 35, 36, 39 ,40, 41, 44, 45, 46, 47,\n",
        " 53, 54, 55, 56, 57, 63, 64, 65, 67, 68, 69, 71, 72]\n",
        "\n",
        "data_train07.loc[data_train07[\"action_index\"].isin(hit_ind), \"real_action\"] = 1"
      ]
    },
    {
      "cell_type": "code",
      "execution_count": null,
      "metadata": {
        "id": "-nlwERpLTBtC"
      },
      "outputs": [],
      "source": [
        "# fight_file/10.txt\n",
        "data_train10[\"real_action\"] = 0\n",
        "\n",
        "hit_ind = [11, 12, 13, 19, 20, 21, 27, 28, 29, 34, 35,36, 41, 42, 44, 45, 46, 54, 55, 56,\n",
        " 60, 61, 69, 70, 71, 72, 78, 79, 80, 83, 84, 85, 86, 87, 88, 98, 99, 103, 104, 105,\n",
        " 110, 111, 113, 114, 115, 128, 129, 130, 134, 135, 136]\n",
        "\n",
        "data_train10.loc[data_train10[\"action_index\"].isin(hit_ind), \"real_action\"] = 1"
      ]
    },
    {
      "cell_type": "code",
      "execution_count": null,
      "metadata": {
        "id": "Pu5decI_Sk7W"
      },
      "outputs": [],
      "source": [
        "# fight_file/11.txt\n",
        "data_train11[\"real_action\"] = 0\n",
        "\n",
        "jab_ind = [3, 4, 5, 19, 20, 39, 40, 41, 76, 77, 78, 108, 109]\n",
        "\n",
        "uppercut_ind = [12, 13, 26, 27, 63, 64, 89, 90, 120, 121, 135, 136]\n",
        "                \n",
        "hook_ind = [31, 32, 33, 46, 47, 99, 100, 127, 128, 129]\n",
        "\n",
        "data_train11.loc[data_train11[\"action_index\"].isin(jab_ind), \"real_action\"] = 1\n",
        "data_train11.loc[data_train11[\"action_index\"].isin(uppercut_ind), \"real_action\"] = 1\n",
        "data_train11.loc[data_train11[\"action_index\"].isin(hook_ind), \"real_action\"] = 1"
      ]
    },
    {
      "cell_type": "code",
      "execution_count": null,
      "metadata": {
        "id": "bNEmd4OWSo9q"
      },
      "outputs": [],
      "source": [
        "# fight_file/12.txt\n",
        "data_train12[\"real_action\"] = 0\n",
        "\n",
        "jab_ind = [9, 10, 11, 34, 35, 36, 55, 56, 57, 85, 86, 87, 102, 103, 104, 126, 127, 128, 133, 134, 70, 71, 72]\n",
        "\n",
        "uppercut_ind = [20, 21, 44, 45, 67, 68, 114, 115]\n",
        "                \n",
        "hook_ind = [28, 29, 30]\n",
        "\n",
        "data_train12.loc[data_train12[\"action_index\"].isin(jab_ind), \"real_action\"] = 1\n",
        "data_train12.loc[data_train12[\"action_index\"].isin(uppercut_ind ), \"real_action\"] = 1\n",
        "data_train12.loc[data_train12[\"action_index\"].isin(hook_ind), \"real_action\"] = 1"
      ]
    },
    {
      "cell_type": "code",
      "execution_count": null,
      "metadata": {
        "id": "JM9yLivcSssP"
      },
      "outputs": [],
      "source": [
        "# fight_file/13.txt\n",
        "data_train13[\"real_action\"] = 0\n",
        "\n",
        "hit_ind = [8, 9, 10, 15, 16, 29, 30, 32, 33, 34, 38, 44, 45, 46, 53, 57, 58, 63, 64, 84, 85, 92, 93,\n",
        " 98, 99, 100, 104, 105, 106,  112, 113, 125, 126,  131, 132, 133, 137, 138, 139]\n",
        "\n",
        "data_train13.loc[data_train13[\"action_index\"].isin(hit_ind), \"real_action\"] = 1"
      ]
    },
    {
      "cell_type": "code",
      "execution_count": null,
      "metadata": {
        "id": "dMEcxe9cSpA3"
      },
      "outputs": [],
      "source": [
        "# fight_file/14.txt\n",
        "data_train14[\"real_action\"] = 0\n",
        "\n",
        "jab_ind = [9, 10, 11, 22, 23, 24, 34, 35, 36, 77, 78, 79, 119, 120, 121]\n",
        "\n",
        "uppercut_ind = [56, 57, 58, 82, 83, 84, 112, 113, 114, 123, 124, 138, 139, 140]\n",
        "                \n",
        "hook_ind = [47, 48, 49, 59, 60, 61, 93, 94, 95, 126, 127, 135, 136]\n",
        "\n",
        "data_train14.loc[data_train14[\"action_index\"].isin(jab_ind), \"real_action\"] = 1\n",
        "data_train14.loc[data_train14[\"action_index\"].isin(uppercut_ind ), \"real_action\"] = 1\n",
        "data_train14.loc[data_train14[\"action_index\"].isin(hook_ind), \"real_action\"] = 1"
      ]
    },
    {
      "cell_type": "code",
      "execution_count": null,
      "metadata": {
        "id": "Q00jXOKqSpEJ"
      },
      "outputs": [],
      "source": [
        "# fight_file/15.txt\n",
        "data_train15[\"real_action\"] = 0\n",
        "\n",
        "hit_ind = [4, 5, 6, 17, 18, 20, 21, 22, 23, 24, 30, 31, 32, 42, 43, 49, 50, 51, 57, 58, 61, 62, 63,\n",
        " 69, 70, 71, 72, 73, 74, 79, 80, 86, 87, 88, 99, 100, 105, 106, 107, 112, 113, 119, 128, 129, 135, 136]\n",
        "\n",
        "data_train15.loc[data_train15[\"action_index\"].isin(hit_ind), \"real_action\"] = 1"
      ]
    }
  ],
  "metadata": {
    "colab": {
      "collapsed_sections": [],
      "provenance": []
    },
    "kernelspec": {
      "display_name": "Python 3",
      "name": "python3"
    },
    "language_info": {
      "codemirror_mode": {
        "name": "ipython",
        "version": 3
      },
      "file_extension": ".py",
      "mimetype": "text/x-python",
      "name": "python",
      "nbconvert_exporter": "python",
      "pygments_lexer": "ipython3",
      "version": "3.10.11"
    }
  },
  "nbformat": 4,
  "nbformat_minor": 0
}
